{
  "metadata": {
    "language_info": {
      "codemirror_mode": {
        "name": "python",
        "version": 3
      },
      "file_extension": ".py",
      "mimetype": "text/x-python",
      "name": "python",
      "nbconvert_exporter": "python",
      "pygments_lexer": "ipython3",
      "version": "3.8"
    },
    "kernelspec": {
      "name": "python",
      "display_name": "Pyolite",
      "language": "python"
    }
  },
  "nbformat_minor": 4,
  "nbformat": 4,
  "cells": [
    {
      "cell_type": "markdown",
      "source": "# My Jupyter Notebook on IBM Watson Studio",
      "metadata": {}
    },
    {
      "cell_type": "markdown",
      "source": "**Alperen**  \nUniversity Student",
      "metadata": {}
    },
    {
      "cell_type": "markdown",
      "source": "_Data science is a popular and valued profession today. For this reason, I want to work in this field after my student life._",
      "metadata": {}
    },
    {
      "cell_type": "markdown",
      "source": "### My code in Cell 5 is a math operation that calculates 2 ussu to the 3rd power",
      "metadata": {}
    },
    {
      "cell_type": "code",
      "source": "2**3",
      "metadata": {
        "trusted": true
      },
      "execution_count": 1,
      "outputs": [
        {
          "execution_count": 1,
          "output_type": "execute_result",
          "data": {
            "text/plain": "8"
          },
          "metadata": {}
        }
      ]
    },
    {
      "cell_type": "markdown",
      "source": "![siuuuuuuuuuuuuuu](https://steamuserimages-a.akamaihd.net/ugc/1749059066579358572/380FE80C6573DCB042330DAD8A0E843CE68C52F4/?imw=637&imh=358&ima=fit&impolicy=Letterbox&imcolor=%23000000&letterbox=true)\n> Someone once told me that time was a predator that stalked us all our lives.\n1. List item one\n1. List item two\n1. List item three\n",
      "metadata": {}
    },
    {
      "cell_type": "code",
      "source": "",
      "metadata": {},
      "execution_count": null,
      "outputs": []
    }
  ]
}